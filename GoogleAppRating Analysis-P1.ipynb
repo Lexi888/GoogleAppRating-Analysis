{
 "cells": [
  {
   "cell_type": "markdown",
   "id": "c62fe198",
   "metadata": {},
   "source": [
    "## Data Analysis Of Google App's Ratings"
   ]
  },
  {
   "cell_type": "markdown",
   "id": "ec7f875d",
   "metadata": {},
   "source": [
    "### Import all the necessary modules"
   ]
  },
  {
   "cell_type": "code",
   "execution_count": 1,
   "id": "fdd78ac8",
   "metadata": {},
   "outputs": [],
   "source": [
    "import re\n",
    "import pandas as pd\n",
    "import numpy as np\n",
    "\n",
    "# Visualization\n",
    "import seaborn as sns\n",
    "import matplotlib.pyplot as plt"
   ]
  },
  {
   "cell_type": "markdown",
   "id": "272ceaa8",
   "metadata": {},
   "source": [
    "### Load Data into DataFrame\n",
    "* Show first 5 rows"
   ]
  },
  {
   "cell_type": "code",
   "execution_count": 2,
   "id": "60c58733",
   "metadata": {
    "scrolled": true
   },
   "outputs": [
    {
     "data": {
      "text/html": [
       "<div>\n",
       "<style scoped>\n",
       "    .dataframe tbody tr th:only-of-type {\n",
       "        vertical-align: middle;\n",
       "    }\n",
       "\n",
       "    .dataframe tbody tr th {\n",
       "        vertical-align: top;\n",
       "    }\n",
       "\n",
       "    .dataframe thead th {\n",
       "        text-align: right;\n",
       "    }\n",
       "</style>\n",
       "<table border=\"1\" class=\"dataframe\">\n",
       "  <thead>\n",
       "    <tr style=\"text-align: right;\">\n",
       "      <th></th>\n",
       "      <th>App</th>\n",
       "      <th>Category</th>\n",
       "      <th>Rating</th>\n",
       "      <th>Reviews</th>\n",
       "      <th>Size</th>\n",
       "      <th>Installs</th>\n",
       "      <th>Type</th>\n",
       "      <th>Price</th>\n",
       "      <th>Content Rating</th>\n",
       "      <th>Genres</th>\n",
       "      <th>Last Updated</th>\n",
       "      <th>Current Ver</th>\n",
       "      <th>Android Ver</th>\n",
       "    </tr>\n",
       "  </thead>\n",
       "  <tbody>\n",
       "    <tr>\n",
       "      <th>0</th>\n",
       "      <td>Photo Editor &amp; Candy Camera &amp; Grid &amp; ScrapBook</td>\n",
       "      <td>ART_AND_DESIGN</td>\n",
       "      <td>4.1</td>\n",
       "      <td>159</td>\n",
       "      <td>19M</td>\n",
       "      <td>10,000+</td>\n",
       "      <td>Free</td>\n",
       "      <td>0</td>\n",
       "      <td>Everyone</td>\n",
       "      <td>Art &amp; Design</td>\n",
       "      <td>January 7, 2018</td>\n",
       "      <td>1.0.0</td>\n",
       "      <td>4.0.3 and up</td>\n",
       "    </tr>\n",
       "    <tr>\n",
       "      <th>1</th>\n",
       "      <td>Coloring book moana</td>\n",
       "      <td>ART_AND_DESIGN</td>\n",
       "      <td>3.9</td>\n",
       "      <td>967</td>\n",
       "      <td>14M</td>\n",
       "      <td>500,000+</td>\n",
       "      <td>Free</td>\n",
       "      <td>0</td>\n",
       "      <td>Everyone</td>\n",
       "      <td>Art &amp; Design;Pretend Play</td>\n",
       "      <td>January 15, 2018</td>\n",
       "      <td>2.0.0</td>\n",
       "      <td>4.0.3 and up</td>\n",
       "    </tr>\n",
       "    <tr>\n",
       "      <th>2</th>\n",
       "      <td>U Launcher Lite – FREE Live Cool Themes, Hide ...</td>\n",
       "      <td>ART_AND_DESIGN</td>\n",
       "      <td>4.7</td>\n",
       "      <td>87510</td>\n",
       "      <td>8.7M</td>\n",
       "      <td>5,000,000+</td>\n",
       "      <td>Free</td>\n",
       "      <td>0</td>\n",
       "      <td>Everyone</td>\n",
       "      <td>Art &amp; Design</td>\n",
       "      <td>August 1, 2018</td>\n",
       "      <td>1.2.4</td>\n",
       "      <td>4.0.3 and up</td>\n",
       "    </tr>\n",
       "    <tr>\n",
       "      <th>3</th>\n",
       "      <td>Sketch - Draw &amp; Paint</td>\n",
       "      <td>ART_AND_DESIGN</td>\n",
       "      <td>4.5</td>\n",
       "      <td>215644</td>\n",
       "      <td>25M</td>\n",
       "      <td>50,000,000+</td>\n",
       "      <td>Free</td>\n",
       "      <td>0</td>\n",
       "      <td>Teen</td>\n",
       "      <td>Art &amp; Design</td>\n",
       "      <td>June 8, 2018</td>\n",
       "      <td>Varies with device</td>\n",
       "      <td>4.2 and up</td>\n",
       "    </tr>\n",
       "    <tr>\n",
       "      <th>4</th>\n",
       "      <td>Pixel Draw - Number Art Coloring Book</td>\n",
       "      <td>ART_AND_DESIGN</td>\n",
       "      <td>4.3</td>\n",
       "      <td>967</td>\n",
       "      <td>2.8M</td>\n",
       "      <td>100,000+</td>\n",
       "      <td>Free</td>\n",
       "      <td>0</td>\n",
       "      <td>Everyone</td>\n",
       "      <td>Art &amp; Design;Creativity</td>\n",
       "      <td>June 20, 2018</td>\n",
       "      <td>1.1</td>\n",
       "      <td>4.4 and up</td>\n",
       "    </tr>\n",
       "  </tbody>\n",
       "</table>\n",
       "</div>"
      ],
      "text/plain": [
       "                                                 App        Category  Rating  \\\n",
       "0     Photo Editor & Candy Camera & Grid & ScrapBook  ART_AND_DESIGN     4.1   \n",
       "1                                Coloring book moana  ART_AND_DESIGN     3.9   \n",
       "2  U Launcher Lite – FREE Live Cool Themes, Hide ...  ART_AND_DESIGN     4.7   \n",
       "3                              Sketch - Draw & Paint  ART_AND_DESIGN     4.5   \n",
       "4              Pixel Draw - Number Art Coloring Book  ART_AND_DESIGN     4.3   \n",
       "\n",
       "   Reviews  Size     Installs  Type Price Content Rating  \\\n",
       "0      159   19M      10,000+  Free     0       Everyone   \n",
       "1      967   14M     500,000+  Free     0       Everyone   \n",
       "2    87510  8.7M   5,000,000+  Free     0       Everyone   \n",
       "3   215644   25M  50,000,000+  Free     0           Teen   \n",
       "4      967  2.8M     100,000+  Free     0       Everyone   \n",
       "\n",
       "                      Genres      Last Updated         Current Ver  \\\n",
       "0               Art & Design   January 7, 2018               1.0.0   \n",
       "1  Art & Design;Pretend Play  January 15, 2018               2.0.0   \n",
       "2               Art & Design    August 1, 2018               1.2.4   \n",
       "3               Art & Design      June 8, 2018  Varies with device   \n",
       "4    Art & Design;Creativity     June 20, 2018                 1.1   \n",
       "\n",
       "    Android Ver  \n",
       "0  4.0.3 and up  \n",
       "1  4.0.3 and up  \n",
       "2  4.0.3 and up  \n",
       "3    4.2 and up  \n",
       "4    4.4 and up  "
      ]
     },
     "execution_count": 2,
     "metadata": {},
     "output_type": "execute_result"
    }
   ],
   "source": [
    "df = pd.read_csv(\"data/googleplaystore.csv\")\n",
    "df.head()"
   ]
  },
  {
   "cell_type": "markdown",
   "id": "ed065879",
   "metadata": {},
   "source": [
    "### DataFrame Info"
   ]
  },
  {
   "cell_type": "code",
   "execution_count": 3,
   "id": "f2dc1572",
   "metadata": {},
   "outputs": [
    {
     "name": "stdout",
     "output_type": "stream",
     "text": [
      "There are 10840 rows in total in dataset.\n",
      "There are 13 columns in total in dataset.\n"
     ]
    }
   ],
   "source": [
    "# Summarize information of current dataset:\n",
    "\n",
    "(rows, columns) = df.shape\n",
    "print(f\"There are {rows} rows in total in dataset.\")\n",
    "print(f\"There are {columns} columns in total in dataset.\")"
   ]
  },
  {
   "cell_type": "code",
   "execution_count": 4,
   "id": "b16cf99c",
   "metadata": {},
   "outputs": [
    {
     "name": "stdout",
     "output_type": "stream",
     "text": [
      "The general information about GoogleAppStore dataset is shown below:\n",
      "--------------------------------------------------------------------\n",
      "<class 'pandas.core.frame.DataFrame'>\n",
      "RangeIndex: 10840 entries, 0 to 10839\n",
      "Data columns (total 13 columns):\n",
      " #   Column          Non-Null Count  Dtype  \n",
      "---  ------          --------------  -----  \n",
      " 0   App             10840 non-null  object \n",
      " 1   Category        10840 non-null  object \n",
      " 2   Rating          9366 non-null   float64\n",
      " 3   Reviews         10840 non-null  int64  \n",
      " 4   Size            10840 non-null  object \n",
      " 5   Installs        10840 non-null  object \n",
      " 6   Type            10839 non-null  object \n",
      " 7   Price           10840 non-null  object \n",
      " 8   Content Rating  10840 non-null  object \n",
      " 9   Genres          10840 non-null  object \n",
      " 10  Last Updated    10840 non-null  object \n",
      " 11  Current Ver     10832 non-null  object \n",
      " 12  Android Ver     10838 non-null  object \n",
      "dtypes: float64(1), int64(1), object(11)\n",
      "memory usage: 1.1+ MB\n"
     ]
    }
   ],
   "source": [
    "# Summarize dataset columns and Data type:\n",
    "\n",
    "print(\"The general information about GoogleAppStore dataset is shown below:\")\n",
    "print(\"-\"*68)\n",
    "df.info()"
   ]
  },
  {
   "cell_type": "markdown",
   "id": "813baa7e",
   "metadata": {},
   "source": [
    "**As the information shown above, we can see there are several changes need to be made about Datatype.**\n",
    "* Only 'Rating' is float, 'Reviews' are integer, and other columns are in string object. We need to convert the datatype of other columns to get meaningful results. And in this way, we can apply appropriate tools to visulize the results.\n",
    "* But before converting datatype, let's do some `Data Cleaning` first."
   ]
  },
  {
   "cell_type": "markdown",
   "id": "9ef79dcc",
   "metadata": {},
   "source": [
    "### Clean Data \n",
    "#### Check and Remove NaN values"
   ]
  },
  {
   "cell_type": "code",
   "execution_count": 5,
   "id": "92ed76ba",
   "metadata": {},
   "outputs": [
    {
     "name": "stdout",
     "output_type": "stream",
     "text": [
      "Total Number of missing values in Rating: 1474\n",
      "Total Number of missing values in Type: 1\n",
      "Total Number of missing values in Current Ver: 8\n",
      "Total Number of missing values in Android Ver: 2\n"
     ]
    }
   ],
   "source": [
    "for i in range(len(df.isna().sum())):\n",
    "    # Loop through all the number of columns in df:\n",
    "    if df.isna().sum()[i] > 0:\n",
    "        # Check if the sum of missing value in the i-th column > 0\n",
    "        print('Total Number of missing values in '+ df.isna().sum().index[i] + ':',df.isna().sum()[i])"
   ]
  },
  {
   "cell_type": "markdown",
   "id": "8522ed22",
   "metadata": {},
   "source": [
    "As we've found the number of NaN values, we can either replace or drop them. In current case, missing values are not big compared with dataset, so we just drop them.\n",
    "If we choose to replace them, we can use `mean` or `mode` to do it. "
   ]
  },
  {
   "cell_type": "markdown",
   "id": "2f8b4efc",
   "metadata": {},
   "source": [
    "**There are 4 columns containing NaN values. We need to remove rows containing any NaN values by using `df.dropna()`.**"
   ]
  },
  {
   "cell_type": "code",
   "execution_count": 6,
   "id": "ce2e9089",
   "metadata": {},
   "outputs": [],
   "source": [
    "# Drop rows having NaN value:\n",
    "df.dropna(axis = 0, inplace = True)\n",
    "\n",
    "# axis = 0, meaning to drop rows"
   ]
  },
  {
   "cell_type": "markdown",
   "id": "89a33820",
   "metadata": {},
   "source": [
    "**Let's check if all the NaN values have been dropped.**"
   ]
  },
  {
   "cell_type": "code",
   "execution_count": 7,
   "id": "89a23aab",
   "metadata": {},
   "outputs": [
    {
     "data": {
      "text/plain": [
       "App               0\n",
       "Category          0\n",
       "Rating            0\n",
       "Reviews           0\n",
       "Size              0\n",
       "Installs          0\n",
       "Type              0\n",
       "Price             0\n",
       "Content Rating    0\n",
       "Genres            0\n",
       "Last Updated      0\n",
       "Current Ver       0\n",
       "Android Ver       0\n",
       "dtype: int64"
      ]
     },
     "execution_count": 7,
     "metadata": {},
     "output_type": "execute_result"
    }
   ],
   "source": [
    "# df.isna().sum(): return the number of NaN in each column\n",
    "\n",
    "df.isna().sum()"
   ]
  },
  {
   "cell_type": "code",
   "execution_count": 8,
   "id": "cea4a6b1",
   "metadata": {},
   "outputs": [
    {
     "name": "stdout",
     "output_type": "stream",
     "text": [
      "Now there are 0 NaN values in total.\n"
     ]
    }
   ],
   "source": [
    "# df.isna().sum().sum(): return all the NaN values in DataFrame\n",
    "\n",
    "print(f\"Now there are {df.isna().sum().sum()} NaN values in total.\")"
   ]
  },
  {
   "cell_type": "markdown",
   "id": "af3ee381",
   "metadata": {},
   "source": [
    "### Converting String to Categorical Dtype"
   ]
  },
  {
   "cell_type": "markdown",
   "id": "56fbf530",
   "metadata": {},
   "source": [
    "#### 1. Category Column\n",
    "* Here we will convert the values in Category column into categorical datatype and then do the univariate analysis by plotting the count of the top 10 Categories."
   ]
  },
  {
   "cell_type": "code",
   "execution_count": 9,
   "id": "0bd984cc",
   "metadata": {},
   "outputs": [
    {
     "data": {
      "text/plain": [
       "CategoricalDtype(categories=['ART_AND_DESIGN', 'AUTO_AND_VEHICLES', 'BEAUTY',\n",
       "                  'BOOKS_AND_REFERENCE', 'BUSINESS', 'COMICS', 'COMMUNICATION',\n",
       "                  'DATING', 'EDUCATION', 'ENTERTAINMENT', 'EVENTS', 'FAMILY',\n",
       "                  'FINANCE', 'FOOD_AND_DRINK', 'GAME', 'HEALTH_AND_FITNESS',\n",
       "                  'HOUSE_AND_HOME', 'LIBRARIES_AND_DEMO', 'LIFESTYLE',\n",
       "                  'MAPS_AND_NAVIGATION', 'MEDICAL', 'NEWS_AND_MAGAZINES',\n",
       "                  'PARENTING', 'PERSONALIZATION', 'PHOTOGRAPHY',\n",
       "                  'PRODUCTIVITY', 'SHOPPING', 'SOCIAL', 'SPORTS', 'TOOLS',\n",
       "                  'TRAVEL_AND_LOCAL', 'VIDEO_PLAYERS', 'WEATHER'],\n",
       ", ordered=False)"
      ]
     },
     "execution_count": 9,
     "metadata": {},
     "output_type": "execute_result"
    }
   ],
   "source": [
    "df[\"Category\"] = df[\"Category\"].astype('category')\n",
    "df[\"Category\"].dtype"
   ]
  },
  {
   "cell_type": "code",
   "execution_count": 10,
   "id": "680614c2",
   "metadata": {},
   "outputs": [
    {
     "data": {
      "text/plain": [
       "FAMILY           1746\n",
       "GAME             1097\n",
       "TOOLS             733\n",
       "PRODUCTIVITY      351\n",
       "MEDICAL           350\n",
       "COMMUNICATION     328\n",
       "FINANCE           323\n",
       "SPORTS            319\n",
       "PHOTOGRAPHY       317\n",
       "LIFESTYLE         314\n",
       "Name: Category, dtype: int64"
      ]
     },
     "execution_count": 10,
     "metadata": {},
     "output_type": "execute_result"
    }
   ],
   "source": [
    "# Find the top10 Category:\n",
    "\n",
    "df[\"Category\"].value_counts().nlargest(10)"
   ]
  },
  {
   "cell_type": "markdown",
   "id": "96d2371b",
   "metadata": {},
   "source": [
    "#### 2. Type Column"
   ]
  },
  {
   "cell_type": "code",
   "execution_count": 11,
   "id": "6760ec47",
   "metadata": {},
   "outputs": [
    {
     "data": {
      "text/plain": [
       "CategoricalDtype(categories=['Free', 'Paid'], ordered=False)"
      ]
     },
     "execution_count": 11,
     "metadata": {},
     "output_type": "execute_result"
    }
   ],
   "source": [
    "df[\"Type\"] = df[\"Type\"].astype(\"category\")\n",
    "df['Type'].dtype"
   ]
  },
  {
   "cell_type": "code",
   "execution_count": 12,
   "id": "50fa0a20",
   "metadata": {},
   "outputs": [
    {
     "data": {
      "text/plain": [
       "Free    8715\n",
       "Paid     645\n",
       "Name: Type, dtype: int64"
      ]
     },
     "execution_count": 12,
     "metadata": {},
     "output_type": "execute_result"
    }
   ],
   "source": [
    "# Find the count for those two types:\n",
    "\n",
    "df['Type'].value_counts()"
   ]
  },
  {
   "cell_type": "markdown",
   "id": "c41965fe",
   "metadata": {},
   "source": [
    "#### 3. Content Rating Column"
   ]
  },
  {
   "cell_type": "code",
   "execution_count": 13,
   "id": "95e2fa23",
   "metadata": {},
   "outputs": [
    {
     "data": {
      "text/plain": [
       "CategoricalDtype(categories=['Adults only 18+', 'Everyone', 'Everyone 10+', 'Mature 17+',\n",
       "                  'Teen', 'Unrated'],\n",
       ", ordered=False)"
      ]
     },
     "execution_count": 13,
     "metadata": {},
     "output_type": "execute_result"
    }
   ],
   "source": [
    "df[\"Content Rating\"] = df[\"Content Rating\"].astype(\"category\")\n",
    "df[\"Content Rating\"].dtype"
   ]
  },
  {
   "cell_type": "code",
   "execution_count": 14,
   "id": "ff7283c2",
   "metadata": {},
   "outputs": [
    {
     "data": {
      "text/plain": [
       "Everyone           7414\n",
       "Teen               1084\n",
       "Mature 17+          461\n",
       "Everyone 10+        397\n",
       "Adults only 18+       3\n",
       "Unrated               1\n",
       "Name: Content Rating, dtype: int64"
      ]
     },
     "execution_count": 14,
     "metadata": {},
     "output_type": "execute_result"
    }
   ],
   "source": [
    "# Find the number for each of category:\n",
    "\n",
    "df[\"Content Rating\"].value_counts()"
   ]
  },
  {
   "cell_type": "markdown",
   "id": "c86a810a",
   "metadata": {},
   "source": [
    "Since it's said 'Unrated', Let's categorisize it as 'Everyone'."
   ]
  },
  {
   "cell_type": "code",
   "execution_count": 15,
   "id": "27590ed0",
   "metadata": {},
   "outputs": [],
   "source": [
    "df[\"Content Rating\"].replace(\"Unrated\",\"Everyone\", inplace=True)"
   ]
  },
  {
   "cell_type": "code",
   "execution_count": 16,
   "id": "4b9f3fd7",
   "metadata": {},
   "outputs": [
    {
     "data": {
      "text/plain": [
       "Everyone           7415\n",
       "Teen               1084\n",
       "Mature 17+          461\n",
       "Everyone 10+        397\n",
       "Adults only 18+       3\n",
       "Name: Content Rating, dtype: int64"
      ]
     },
     "execution_count": 16,
     "metadata": {},
     "output_type": "execute_result"
    }
   ],
   "source": [
    "# Check the number for each of category again:\n",
    "\n",
    "df[\"Content Rating\"].value_counts()"
   ]
  },
  {
   "cell_type": "markdown",
   "id": "3905eca5",
   "metadata": {},
   "source": [
    "#### 4. Genres Column"
   ]
  },
  {
   "cell_type": "code",
   "execution_count": 17,
   "id": "711f35c4",
   "metadata": {},
   "outputs": [
    {
     "data": {
      "text/plain": [
       "CategoricalDtype(categories=['Action', 'Action;Action & Adventure', 'Adventure',\n",
       "                  'Adventure;Action & Adventure', 'Adventure;Brain Games',\n",
       "                  'Adventure;Education', 'Arcade', 'Arcade;Action & Adventure',\n",
       "                  'Arcade;Pretend Play', 'Art & Design',\n",
       "                  ...\n",
       "                  'Tools', 'Tools;Education', 'Travel & Local',\n",
       "                  'Travel & Local;Action & Adventure', 'Trivia',\n",
       "                  'Video Players & Editors',\n",
       "                  'Video Players & Editors;Creativity',\n",
       "                  'Video Players & Editors;Music & Video', 'Weather', 'Word'],\n",
       ", ordered=False)"
      ]
     },
     "execution_count": 17,
     "metadata": {},
     "output_type": "execute_result"
    }
   ],
   "source": [
    "df[\"Genres\"] = df[\"Genres\"].astype(\"category\")\n",
    "df[\"Genres\"].dtype"
   ]
  },
  {
   "cell_type": "code",
   "execution_count": 18,
   "id": "fd8ef0c1",
   "metadata": {},
   "outputs": [
    {
     "data": {
      "text/plain": [
       "Tools            732\n",
       "Entertainment    533\n",
       "Education        468\n",
       "Action           358\n",
       "Productivity     351\n",
       "Medical          350\n",
       "Sports           333\n",
       "Communication    328\n",
       "Finance          323\n",
       "Photography      317\n",
       "Name: Genres, dtype: int64"
      ]
     },
     "execution_count": 18,
     "metadata": {},
     "output_type": "execute_result"
    }
   ],
   "source": [
    "# Find Top 10 Genres:\n",
    "\n",
    "df[\"Genres\"].value_counts().nlargest(10)"
   ]
  },
  {
   "cell_type": "markdown",
   "id": "5bec3c87",
   "metadata": {},
   "source": [
    "### Converting String to Datetime Dtype"
   ]
  },
  {
   "cell_type": "code",
   "execution_count": 19,
   "id": "ca23e86a",
   "metadata": {},
   "outputs": [
    {
     "data": {
      "text/plain": [
       "0   2018-01-07\n",
       "1   2018-01-15\n",
       "2   2018-08-01\n",
       "3   2018-06-08\n",
       "4   2018-06-20\n",
       "Name: Last Updated, dtype: datetime64[ns]"
      ]
     },
     "execution_count": 19,
     "metadata": {},
     "output_type": "execute_result"
    }
   ],
   "source": [
    "df[\"Last Updated\"] = pd.to_datetime(df[\"Last Updated\"], format = \"%B %d, %Y\")\n",
    "df[\"Last Updated\"].head()"
   ]
  },
  {
   "cell_type": "markdown",
   "id": "c9b91109",
   "metadata": {},
   "source": [
    "### Seperating Date Column\n",
    "* Extract Year helps us understand the latest update"
   ]
  },
  {
   "cell_type": "code",
   "execution_count": 20,
   "id": "238351b8",
   "metadata": {},
   "outputs": [
    {
     "data": {
      "text/html": [
       "<div>\n",
       "<style scoped>\n",
       "    .dataframe tbody tr th:only-of-type {\n",
       "        vertical-align: middle;\n",
       "    }\n",
       "\n",
       "    .dataframe tbody tr th {\n",
       "        vertical-align: top;\n",
       "    }\n",
       "\n",
       "    .dataframe thead th {\n",
       "        text-align: right;\n",
       "    }\n",
       "</style>\n",
       "<table border=\"1\" class=\"dataframe\">\n",
       "  <thead>\n",
       "    <tr style=\"text-align: right;\">\n",
       "      <th></th>\n",
       "      <th>Year</th>\n",
       "    </tr>\n",
       "  </thead>\n",
       "  <tbody>\n",
       "    <tr>\n",
       "      <th>0</th>\n",
       "      <td>2018</td>\n",
       "    </tr>\n",
       "    <tr>\n",
       "      <th>1</th>\n",
       "      <td>2018</td>\n",
       "    </tr>\n",
       "    <tr>\n",
       "      <th>2</th>\n",
       "      <td>2018</td>\n",
       "    </tr>\n",
       "    <tr>\n",
       "      <th>3</th>\n",
       "      <td>2018</td>\n",
       "    </tr>\n",
       "    <tr>\n",
       "      <th>4</th>\n",
       "      <td>2018</td>\n",
       "    </tr>\n",
       "  </tbody>\n",
       "</table>\n",
       "</div>"
      ],
      "text/plain": [
       "   Year\n",
       "0  2018\n",
       "1  2018\n",
       "2  2018\n",
       "3  2018\n",
       "4  2018"
      ]
     },
     "execution_count": 20,
     "metadata": {},
     "output_type": "execute_result"
    }
   ],
   "source": [
    "df[\"Year\"] = df[\"Last Updated\"].dt.year\n",
    "df[[\"Year\"]].head()"
   ]
  },
  {
   "cell_type": "markdown",
   "id": "d3ef6ec1",
   "metadata": {},
   "source": [
    "### String to Numbers"
   ]
  },
  {
   "cell_type": "markdown",
   "id": "01f27a3c",
   "metadata": {},
   "source": [
    "#### 1. Price Column\n",
    "* Price in current dataset is a string objct, to convert it float, we need to **remove the \"$\" sign first**."
   ]
  },
  {
   "cell_type": "code",
   "execution_count": 21,
   "id": "e581743e",
   "metadata": {},
   "outputs": [],
   "source": [
    "# The regular expression'[\\$]': to match the \"$\" in each value\n",
    "# regex=True: indicate that the pattern used for replacement should be regular expression\n",
    "# Using astype(\"float\") to change string to float\n",
    "\n",
    "df[\"Price\"] = df[\"Price\"].replace('[\\$]','', regex=True).astype(\"float\")"
   ]
  },
  {
   "cell_type": "code",
   "execution_count": 22,
   "id": "c89f2910",
   "metadata": {},
   "outputs": [
    {
     "data": {
      "text/html": [
       "<div>\n",
       "<style scoped>\n",
       "    .dataframe tbody tr th:only-of-type {\n",
       "        vertical-align: middle;\n",
       "    }\n",
       "\n",
       "    .dataframe tbody tr th {\n",
       "        vertical-align: top;\n",
       "    }\n",
       "\n",
       "    .dataframe thead th {\n",
       "        text-align: right;\n",
       "    }\n",
       "</style>\n",
       "<table border=\"1\" class=\"dataframe\">\n",
       "  <thead>\n",
       "    <tr style=\"text-align: right;\">\n",
       "      <th></th>\n",
       "      <th>Price</th>\n",
       "    </tr>\n",
       "  </thead>\n",
       "  <tbody>\n",
       "    <tr>\n",
       "      <th>4367</th>\n",
       "      <td>400.00</td>\n",
       "    </tr>\n",
       "    <tr>\n",
       "      <th>4197</th>\n",
       "      <td>399.99</td>\n",
       "    </tr>\n",
       "    <tr>\n",
       "      <th>4362</th>\n",
       "      <td>399.99</td>\n",
       "    </tr>\n",
       "    <tr>\n",
       "      <th>5351</th>\n",
       "      <td>399.99</td>\n",
       "    </tr>\n",
       "    <tr>\n",
       "      <th>5354</th>\n",
       "      <td>399.99</td>\n",
       "    </tr>\n",
       "    <tr>\n",
       "      <th>5356</th>\n",
       "      <td>399.99</td>\n",
       "    </tr>\n",
       "    <tr>\n",
       "      <th>5358</th>\n",
       "      <td>399.99</td>\n",
       "    </tr>\n",
       "    <tr>\n",
       "      <th>5359</th>\n",
       "      <td>399.99</td>\n",
       "    </tr>\n",
       "    <tr>\n",
       "      <th>5362</th>\n",
       "      <td>399.99</td>\n",
       "    </tr>\n",
       "    <tr>\n",
       "      <th>5364</th>\n",
       "      <td>399.99</td>\n",
       "    </tr>\n",
       "  </tbody>\n",
       "</table>\n",
       "</div>"
      ],
      "text/plain": [
       "       Price\n",
       "4367  400.00\n",
       "4197  399.99\n",
       "4362  399.99\n",
       "5351  399.99\n",
       "5354  399.99\n",
       "5356  399.99\n",
       "5358  399.99\n",
       "5359  399.99\n",
       "5362  399.99\n",
       "5364  399.99"
      ]
     },
     "execution_count": 22,
     "metadata": {},
     "output_type": "execute_result"
    }
   ],
   "source": [
    "# All the Price is in dollars, let's convert it to UK currency\n",
    "\n",
    "df[[\"Price\"]].nlargest(10,[\"Price\"])"
   ]
  },
  {
   "cell_type": "code",
   "execution_count": 23,
   "id": "161ec0b9",
   "metadata": {},
   "outputs": [
    {
     "data": {
      "text/html": [
       "<div>\n",
       "<style scoped>\n",
       "    .dataframe tbody tr th:only-of-type {\n",
       "        vertical-align: middle;\n",
       "    }\n",
       "\n",
       "    .dataframe tbody tr th {\n",
       "        vertical-align: top;\n",
       "    }\n",
       "\n",
       "    .dataframe thead th {\n",
       "        text-align: right;\n",
       "    }\n",
       "</style>\n",
       "<table border=\"1\" class=\"dataframe\">\n",
       "  <thead>\n",
       "    <tr style=\"text-align: right;\">\n",
       "      <th></th>\n",
       "      <th>Price in UK</th>\n",
       "    </tr>\n",
       "  </thead>\n",
       "  <tbody>\n",
       "    <tr>\n",
       "      <th>4367</th>\n",
       "      <td>320.000</td>\n",
       "    </tr>\n",
       "    <tr>\n",
       "      <th>4197</th>\n",
       "      <td>319.992</td>\n",
       "    </tr>\n",
       "    <tr>\n",
       "      <th>4362</th>\n",
       "      <td>319.992</td>\n",
       "    </tr>\n",
       "    <tr>\n",
       "      <th>5351</th>\n",
       "      <td>319.992</td>\n",
       "    </tr>\n",
       "    <tr>\n",
       "      <th>5354</th>\n",
       "      <td>319.992</td>\n",
       "    </tr>\n",
       "    <tr>\n",
       "      <th>5356</th>\n",
       "      <td>319.992</td>\n",
       "    </tr>\n",
       "    <tr>\n",
       "      <th>5358</th>\n",
       "      <td>319.992</td>\n",
       "    </tr>\n",
       "    <tr>\n",
       "      <th>5359</th>\n",
       "      <td>319.992</td>\n",
       "    </tr>\n",
       "    <tr>\n",
       "      <th>5362</th>\n",
       "      <td>319.992</td>\n",
       "    </tr>\n",
       "    <tr>\n",
       "      <th>5364</th>\n",
       "      <td>319.992</td>\n",
       "    </tr>\n",
       "  </tbody>\n",
       "</table>\n",
       "</div>"
      ],
      "text/plain": [
       "      Price in UK\n",
       "4367      320.000\n",
       "4197      319.992\n",
       "4362      319.992\n",
       "5351      319.992\n",
       "5354      319.992\n",
       "5356      319.992\n",
       "5358      319.992\n",
       "5359      319.992\n",
       "5362      319.992\n",
       "5364      319.992"
      ]
     },
     "execution_count": 23,
     "metadata": {},
     "output_type": "execute_result"
    }
   ],
   "source": [
    "# Create a new column: \"Price in UK\"\n",
    "# 0.8 is the currency rate\n",
    "\n",
    "df[\"Price in UK\"] = df[\"Price\"]*0.8\n",
    "df[[\"Price in UK\"]].nlargest(10,[\"Price in UK\"])"
   ]
  },
  {
   "cell_type": "markdown",
   "id": "5a2f875b",
   "metadata": {},
   "source": [
    "#### 2. Installs Column\n",
    "* In this column, all the strings are followed by \"+\" sign.\n",
    "* To convert Installs to an integer, we only need to **Extract digits**."
   ]
  },
  {
   "cell_type": "code",
   "execution_count": 24,
   "id": "10d32ce8",
   "metadata": {},
   "outputs": [],
   "source": [
    "# x: represents each individual value in the column: \"Installs\"\n",
    "# Using findall() retrieve string with 1 or more digits in the value x, and return them to a list\n",
    "\n",
    "df[\"Installs\"] = df[\"Installs\"].apply(lambda x: re.findall(r\"\\d+\", x))"
   ]
  },
  {
   "cell_type": "code",
   "execution_count": 25,
   "id": "c4f90aa4",
   "metadata": {},
   "outputs": [],
   "source": [
    "# Using ''.join() to cnvert lists to strings\n",
    "\n",
    "df[\"Installs\"] = df[\"Installs\"].apply(lambda x: ''.join(x))"
   ]
  },
  {
   "cell_type": "code",
   "execution_count": 26,
   "id": "234025b1",
   "metadata": {},
   "outputs": [],
   "source": [
    "# Convert datatype to int64\n",
    "\n",
    "df[\"Installs\"] = df[\"Installs\"].astype(\"int64\")"
   ]
  },
  {
   "cell_type": "code",
   "execution_count": 27,
   "id": "13aa5ee7",
   "metadata": {},
   "outputs": [
    {
     "data": {
      "text/plain": [
       "dtype('int64')"
      ]
     },
     "execution_count": 27,
     "metadata": {},
     "output_type": "execute_result"
    }
   ],
   "source": [
    "df[\"Installs\"].dtype"
   ]
  },
  {
   "cell_type": "code",
   "execution_count": 28,
   "id": "9dc068f7",
   "metadata": {},
   "outputs": [
    {
     "data": {
      "text/html": [
       "<div>\n",
       "<style scoped>\n",
       "    .dataframe tbody tr th:only-of-type {\n",
       "        vertical-align: middle;\n",
       "    }\n",
       "\n",
       "    .dataframe tbody tr th {\n",
       "        vertical-align: top;\n",
       "    }\n",
       "\n",
       "    .dataframe thead th {\n",
       "        text-align: right;\n",
       "    }\n",
       "</style>\n",
       "<table border=\"1\" class=\"dataframe\">\n",
       "  <thead>\n",
       "    <tr style=\"text-align: right;\">\n",
       "      <th></th>\n",
       "      <th>Installs</th>\n",
       "    </tr>\n",
       "  </thead>\n",
       "  <tbody>\n",
       "    <tr>\n",
       "      <th>0</th>\n",
       "      <td>10000</td>\n",
       "    </tr>\n",
       "    <tr>\n",
       "      <th>1</th>\n",
       "      <td>500000</td>\n",
       "    </tr>\n",
       "    <tr>\n",
       "      <th>2</th>\n",
       "      <td>5000000</td>\n",
       "    </tr>\n",
       "    <tr>\n",
       "      <th>3</th>\n",
       "      <td>50000000</td>\n",
       "    </tr>\n",
       "    <tr>\n",
       "      <th>4</th>\n",
       "      <td>100000</td>\n",
       "    </tr>\n",
       "  </tbody>\n",
       "</table>\n",
       "</div>"
      ],
      "text/plain": [
       "   Installs\n",
       "0     10000\n",
       "1    500000\n",
       "2   5000000\n",
       "3  50000000\n",
       "4    100000"
      ]
     },
     "execution_count": 28,
     "metadata": {},
     "output_type": "execute_result"
    }
   ],
   "source": [
    "# Check the results\n",
    "\n",
    "df[[\"Installs\"]].head()"
   ]
  },
  {
   "cell_type": "markdown",
   "id": "9b022ff1",
   "metadata": {},
   "source": [
    "## Statistics"
   ]
  },
  {
   "cell_type": "code",
   "execution_count": 54,
   "id": "1e08fd82",
   "metadata": {},
   "outputs": [
    {
     "data": {
      "text/html": [
       "<div>\n",
       "<style scoped>\n",
       "    .dataframe tbody tr th:only-of-type {\n",
       "        vertical-align: middle;\n",
       "    }\n",
       "\n",
       "    .dataframe tbody tr th {\n",
       "        vertical-align: top;\n",
       "    }\n",
       "\n",
       "    .dataframe thead th {\n",
       "        text-align: right;\n",
       "    }\n",
       "</style>\n",
       "<table border=\"1\" class=\"dataframe\">\n",
       "  <thead>\n",
       "    <tr style=\"text-align: right;\">\n",
       "      <th></th>\n",
       "      <th>Rating</th>\n",
       "      <th>Reviews</th>\n",
       "      <th>Installs</th>\n",
       "      <th>Price</th>\n",
       "      <th>Year</th>\n",
       "      <th>Price in UK</th>\n",
       "    </tr>\n",
       "  </thead>\n",
       "  <tbody>\n",
       "    <tr>\n",
       "      <th>count</th>\n",
       "      <td>9360.0</td>\n",
       "      <td>9360.0</td>\n",
       "      <td>9.360000e+03</td>\n",
       "      <td>9360.0</td>\n",
       "      <td>9360.0</td>\n",
       "      <td>9360.0</td>\n",
       "    </tr>\n",
       "    <tr>\n",
       "      <th>mean</th>\n",
       "      <td>4.0</td>\n",
       "      <td>514377.0</td>\n",
       "      <td>1.790875e+07</td>\n",
       "      <td>1.0</td>\n",
       "      <td>2017.0</td>\n",
       "      <td>1.0</td>\n",
       "    </tr>\n",
       "    <tr>\n",
       "      <th>std</th>\n",
       "      <td>1.0</td>\n",
       "      <td>3145023.0</td>\n",
       "      <td>9.126636e+07</td>\n",
       "      <td>16.0</td>\n",
       "      <td>1.0</td>\n",
       "      <td>13.0</td>\n",
       "    </tr>\n",
       "    <tr>\n",
       "      <th>min</th>\n",
       "      <td>1.0</td>\n",
       "      <td>1.0</td>\n",
       "      <td>1.000000e+00</td>\n",
       "      <td>0.0</td>\n",
       "      <td>2010.0</td>\n",
       "      <td>0.0</td>\n",
       "    </tr>\n",
       "    <tr>\n",
       "      <th>25%</th>\n",
       "      <td>4.0</td>\n",
       "      <td>187.0</td>\n",
       "      <td>1.000000e+04</td>\n",
       "      <td>0.0</td>\n",
       "      <td>2017.0</td>\n",
       "      <td>0.0</td>\n",
       "    </tr>\n",
       "    <tr>\n",
       "      <th>50%</th>\n",
       "      <td>4.0</td>\n",
       "      <td>5955.0</td>\n",
       "      <td>5.000000e+05</td>\n",
       "      <td>0.0</td>\n",
       "      <td>2018.0</td>\n",
       "      <td>0.0</td>\n",
       "    </tr>\n",
       "    <tr>\n",
       "      <th>75%</th>\n",
       "      <td>4.0</td>\n",
       "      <td>81628.0</td>\n",
       "      <td>5.000000e+06</td>\n",
       "      <td>0.0</td>\n",
       "      <td>2018.0</td>\n",
       "      <td>0.0</td>\n",
       "    </tr>\n",
       "    <tr>\n",
       "      <th>max</th>\n",
       "      <td>5.0</td>\n",
       "      <td>78158306.0</td>\n",
       "      <td>1.000000e+09</td>\n",
       "      <td>400.0</td>\n",
       "      <td>2018.0</td>\n",
       "      <td>320.0</td>\n",
       "    </tr>\n",
       "  </tbody>\n",
       "</table>\n",
       "</div>"
      ],
      "text/plain": [
       "       Rating     Reviews      Installs   Price    Year  Price in UK\n",
       "count  9360.0      9360.0  9.360000e+03  9360.0  9360.0       9360.0\n",
       "mean      4.0    514377.0  1.790875e+07     1.0  2017.0          1.0\n",
       "std       1.0   3145023.0  9.126636e+07    16.0     1.0         13.0\n",
       "min       1.0         1.0  1.000000e+00     0.0  2010.0          0.0\n",
       "25%       4.0       187.0  1.000000e+04     0.0  2017.0          0.0\n",
       "50%       4.0      5955.0  5.000000e+05     0.0  2018.0          0.0\n",
       "75%       4.0     81628.0  5.000000e+06     0.0  2018.0          0.0\n",
       "max       5.0  78158306.0  1.000000e+09   400.0  2018.0        320.0"
      ]
     },
     "execution_count": 54,
     "metadata": {},
     "output_type": "execute_result"
    }
   ],
   "source": [
    "# Descriptive Statistic Summary:\n",
    "\n",
    "df.describe().round(0)"
   ]
  },
  {
   "cell_type": "markdown",
   "id": "c9c598e1",
   "metadata": {},
   "source": [
    "### What's the average rating for 'Paid' and' Free' apps?"
   ]
  },
  {
   "cell_type": "code",
   "execution_count": 30,
   "id": "c9545f86",
   "metadata": {},
   "outputs": [
    {
     "data": {
      "text/plain": [
       "Type\n",
       "Free    4.186288\n",
       "Paid    4.266822\n",
       "Name: Rating, dtype: float64"
      ]
     },
     "execution_count": 30,
     "metadata": {},
     "output_type": "execute_result"
    }
   ],
   "source": [
    "# Group data by 'Type' and calculate mean for each Type:\n",
    "\n",
    "grouped_type = df.groupby(\"Type\")[\"Rating\"].mean()\n",
    "grouped_type"
   ]
  },
  {
   "cell_type": "code",
   "execution_count": 31,
   "id": "f9da519f",
   "metadata": {},
   "outputs": [
    {
     "data": {
      "text/html": [
       "<div>\n",
       "<style scoped>\n",
       "    .dataframe tbody tr th:only-of-type {\n",
       "        vertical-align: middle;\n",
       "    }\n",
       "\n",
       "    .dataframe tbody tr th {\n",
       "        vertical-align: top;\n",
       "    }\n",
       "\n",
       "    .dataframe thead th {\n",
       "        text-align: right;\n",
       "    }\n",
       "</style>\n",
       "<table border=\"1\" class=\"dataframe\">\n",
       "  <thead>\n",
       "    <tr style=\"text-align: right;\">\n",
       "      <th></th>\n",
       "      <th>min</th>\n",
       "      <th>max</th>\n",
       "      <th>mean</th>\n",
       "    </tr>\n",
       "    <tr>\n",
       "      <th>Type</th>\n",
       "      <th></th>\n",
       "      <th></th>\n",
       "      <th></th>\n",
       "    </tr>\n",
       "  </thead>\n",
       "  <tbody>\n",
       "    <tr>\n",
       "      <th>Free</th>\n",
       "      <td>1.0</td>\n",
       "      <td>5.0</td>\n",
       "      <td>4.186288</td>\n",
       "    </tr>\n",
       "    <tr>\n",
       "      <th>Paid</th>\n",
       "      <td>1.0</td>\n",
       "      <td>5.0</td>\n",
       "      <td>4.266822</td>\n",
       "    </tr>\n",
       "  </tbody>\n",
       "</table>\n",
       "</div>"
      ],
      "text/plain": [
       "      min  max      mean\n",
       "Type                    \n",
       "Free  1.0  5.0  4.186288\n",
       "Paid  1.0  5.0  4.266822"
      ]
     },
     "execution_count": 31,
     "metadata": {},
     "output_type": "execute_result"
    }
   ],
   "source": [
    "# agg([]): Combine a list of functions\n",
    "\n",
    "grouped_type = df.groupby(\"Type\")[\"Rating\"].agg(['min','max','mean'])\n",
    "grouped_type"
   ]
  },
  {
   "cell_type": "markdown",
   "id": "dbf6c342",
   "metadata": {},
   "source": [
    "We can see that the rating for Paid apps is slightly higher than Free apps. However, their minimum and maximum ratings are the same."
   ]
  },
  {
   "cell_type": "markdown",
   "id": "50d72490",
   "metadata": {},
   "source": [
    "### Is app more expensive the higher rating?"
   ]
  },
  {
   "cell_type": "code",
   "execution_count": 32,
   "id": "3ed04f42",
   "metadata": {},
   "outputs": [
    {
     "data": {
      "text/html": [
       "<div>\n",
       "<style scoped>\n",
       "    .dataframe tbody tr th:only-of-type {\n",
       "        vertical-align: middle;\n",
       "    }\n",
       "\n",
       "    .dataframe tbody tr th {\n",
       "        vertical-align: top;\n",
       "    }\n",
       "\n",
       "    .dataframe thead th {\n",
       "        text-align: right;\n",
       "    }\n",
       "</style>\n",
       "<table border=\"1\" class=\"dataframe\">\n",
       "  <thead>\n",
       "    <tr style=\"text-align: right;\">\n",
       "      <th></th>\n",
       "      <th>Price in UK</th>\n",
       "      <th>Rating</th>\n",
       "    </tr>\n",
       "  </thead>\n",
       "  <tbody>\n",
       "    <tr>\n",
       "      <th>4367</th>\n",
       "      <td>320.000</td>\n",
       "      <td>3.6</td>\n",
       "    </tr>\n",
       "    <tr>\n",
       "      <th>4197</th>\n",
       "      <td>319.992</td>\n",
       "      <td>4.3</td>\n",
       "    </tr>\n",
       "    <tr>\n",
       "      <th>4362</th>\n",
       "      <td>319.992</td>\n",
       "      <td>3.8</td>\n",
       "    </tr>\n",
       "    <tr>\n",
       "      <th>5351</th>\n",
       "      <td>319.992</td>\n",
       "      <td>3.8</td>\n",
       "    </tr>\n",
       "    <tr>\n",
       "      <th>5354</th>\n",
       "      <td>319.992</td>\n",
       "      <td>4.0</td>\n",
       "    </tr>\n",
       "    <tr>\n",
       "      <th>5356</th>\n",
       "      <td>319.992</td>\n",
       "      <td>4.1</td>\n",
       "    </tr>\n",
       "    <tr>\n",
       "      <th>5358</th>\n",
       "      <td>319.992</td>\n",
       "      <td>3.8</td>\n",
       "    </tr>\n",
       "    <tr>\n",
       "      <th>5359</th>\n",
       "      <td>319.992</td>\n",
       "      <td>3.5</td>\n",
       "    </tr>\n",
       "    <tr>\n",
       "      <th>5362</th>\n",
       "      <td>319.992</td>\n",
       "      <td>4.4</td>\n",
       "    </tr>\n",
       "    <tr>\n",
       "      <th>5364</th>\n",
       "      <td>319.992</td>\n",
       "      <td>4.1</td>\n",
       "    </tr>\n",
       "    <tr>\n",
       "      <th>5369</th>\n",
       "      <td>319.992</td>\n",
       "      <td>4.3</td>\n",
       "    </tr>\n",
       "    <tr>\n",
       "      <th>5373</th>\n",
       "      <td>319.992</td>\n",
       "      <td>4.0</td>\n",
       "    </tr>\n",
       "    <tr>\n",
       "      <th>5366</th>\n",
       "      <td>311.992</td>\n",
       "      <td>3.6</td>\n",
       "    </tr>\n",
       "    <tr>\n",
       "      <th>5357</th>\n",
       "      <td>303.992</td>\n",
       "      <td>2.9</td>\n",
       "    </tr>\n",
       "    <tr>\n",
       "      <th>5355</th>\n",
       "      <td>239.992</td>\n",
       "      <td>3.8</td>\n",
       "    </tr>\n",
       "  </tbody>\n",
       "</table>\n",
       "</div>"
      ],
      "text/plain": [
       "      Price in UK  Rating\n",
       "4367      320.000     3.6\n",
       "4197      319.992     4.3\n",
       "4362      319.992     3.8\n",
       "5351      319.992     3.8\n",
       "5354      319.992     4.0\n",
       "5356      319.992     4.1\n",
       "5358      319.992     3.8\n",
       "5359      319.992     3.5\n",
       "5362      319.992     4.4\n",
       "5364      319.992     4.1\n",
       "5369      319.992     4.3\n",
       "5373      319.992     4.0\n",
       "5366      311.992     3.6\n",
       "5357      303.992     2.9\n",
       "5355      239.992     3.8"
      ]
     },
     "execution_count": 32,
     "metadata": {},
     "output_type": "execute_result"
    }
   ],
   "source": [
    "# Create a list to show 'Price' and 'Rating'\n",
    "# Show the most 15 expensive apps and thier Ratings\n",
    "\n",
    "a = df[[\"Price in UK\",\"Rating\"]].nlargest(15,[\"Price in UK\"])\n",
    "a"
   ]
  },
  {
   "cell_type": "code",
   "execution_count": 33,
   "id": "58fe5b4a",
   "metadata": {},
   "outputs": [
    {
     "data": {
      "text/plain": [
       "Price in UK    313.059200\n",
       "Rating           3.866667\n",
       "dtype: float64"
      ]
     },
     "execution_count": 33,
     "metadata": {},
     "output_type": "execute_result"
    }
   ],
   "source": [
    "# Calculate the mean of the 15 most expensive rating:\n",
    "\n",
    "a.mean()"
   ]
  },
  {
   "cell_type": "markdown",
   "id": "716a8168",
   "metadata": {},
   "source": [
    "**The rating for those apps are lower than average, is it related to reviews and installs? Let's check.**"
   ]
  },
  {
   "cell_type": "code",
   "execution_count": 34,
   "id": "a90da807",
   "metadata": {},
   "outputs": [
    {
     "data": {
      "text/html": [
       "<div>\n",
       "<style scoped>\n",
       "    .dataframe tbody tr th:only-of-type {\n",
       "        vertical-align: middle;\n",
       "    }\n",
       "\n",
       "    .dataframe tbody tr th {\n",
       "        vertical-align: top;\n",
       "    }\n",
       "\n",
       "    .dataframe thead th {\n",
       "        text-align: right;\n",
       "    }\n",
       "</style>\n",
       "<table border=\"1\" class=\"dataframe\">\n",
       "  <thead>\n",
       "    <tr style=\"text-align: right;\">\n",
       "      <th></th>\n",
       "      <th>Price in UK</th>\n",
       "      <th>Installs</th>\n",
       "      <th>Reviews</th>\n",
       "      <th>Rating</th>\n",
       "    </tr>\n",
       "  </thead>\n",
       "  <tbody>\n",
       "    <tr>\n",
       "      <th>4367</th>\n",
       "      <td>320.000</td>\n",
       "      <td>10000</td>\n",
       "      <td>275</td>\n",
       "      <td>3.6</td>\n",
       "    </tr>\n",
       "    <tr>\n",
       "      <th>4197</th>\n",
       "      <td>319.992</td>\n",
       "      <td>100</td>\n",
       "      <td>6</td>\n",
       "      <td>4.3</td>\n",
       "    </tr>\n",
       "    <tr>\n",
       "      <th>4362</th>\n",
       "      <td>319.992</td>\n",
       "      <td>10000</td>\n",
       "      <td>718</td>\n",
       "      <td>3.8</td>\n",
       "    </tr>\n",
       "    <tr>\n",
       "      <th>5351</th>\n",
       "      <td>319.992</td>\n",
       "      <td>100000</td>\n",
       "      <td>3547</td>\n",
       "      <td>3.8</td>\n",
       "    </tr>\n",
       "    <tr>\n",
       "      <th>5354</th>\n",
       "      <td>319.992</td>\n",
       "      <td>10000</td>\n",
       "      <td>856</td>\n",
       "      <td>4.0</td>\n",
       "    </tr>\n",
       "    <tr>\n",
       "      <th>5356</th>\n",
       "      <td>319.992</td>\n",
       "      <td>50000</td>\n",
       "      <td>1867</td>\n",
       "      <td>4.1</td>\n",
       "    </tr>\n",
       "    <tr>\n",
       "      <th>5358</th>\n",
       "      <td>319.992</td>\n",
       "      <td>1000</td>\n",
       "      <td>93</td>\n",
       "      <td>3.8</td>\n",
       "    </tr>\n",
       "    <tr>\n",
       "      <th>5359</th>\n",
       "      <td>319.992</td>\n",
       "      <td>5000</td>\n",
       "      <td>472</td>\n",
       "      <td>3.5</td>\n",
       "    </tr>\n",
       "    <tr>\n",
       "      <th>5362</th>\n",
       "      <td>319.992</td>\n",
       "      <td>5000</td>\n",
       "      <td>201</td>\n",
       "      <td>4.4</td>\n",
       "    </tr>\n",
       "    <tr>\n",
       "      <th>5364</th>\n",
       "      <td>319.992</td>\n",
       "      <td>1000</td>\n",
       "      <td>129</td>\n",
       "      <td>4.1</td>\n",
       "    </tr>\n",
       "    <tr>\n",
       "      <th>5369</th>\n",
       "      <td>319.992</td>\n",
       "      <td>5000</td>\n",
       "      <td>180</td>\n",
       "      <td>4.3</td>\n",
       "    </tr>\n",
       "    <tr>\n",
       "      <th>5373</th>\n",
       "      <td>319.992</td>\n",
       "      <td>1000</td>\n",
       "      <td>36</td>\n",
       "      <td>4.0</td>\n",
       "    </tr>\n",
       "    <tr>\n",
       "      <th>5366</th>\n",
       "      <td>311.992</td>\n",
       "      <td>10000</td>\n",
       "      <td>217</td>\n",
       "      <td>3.6</td>\n",
       "    </tr>\n",
       "    <tr>\n",
       "      <th>5357</th>\n",
       "      <td>303.992</td>\n",
       "      <td>1000</td>\n",
       "      <td>41</td>\n",
       "      <td>2.9</td>\n",
       "    </tr>\n",
       "    <tr>\n",
       "      <th>5355</th>\n",
       "      <td>239.992</td>\n",
       "      <td>10000</td>\n",
       "      <td>411</td>\n",
       "      <td>3.8</td>\n",
       "    </tr>\n",
       "  </tbody>\n",
       "</table>\n",
       "</div>"
      ],
      "text/plain": [
       "      Price in UK  Installs  Reviews  Rating\n",
       "4367      320.000     10000      275     3.6\n",
       "4197      319.992       100        6     4.3\n",
       "4362      319.992     10000      718     3.8\n",
       "5351      319.992    100000     3547     3.8\n",
       "5354      319.992     10000      856     4.0\n",
       "5356      319.992     50000     1867     4.1\n",
       "5358      319.992      1000       93     3.8\n",
       "5359      319.992      5000      472     3.5\n",
       "5362      319.992      5000      201     4.4\n",
       "5364      319.992      1000      129     4.1\n",
       "5369      319.992      5000      180     4.3\n",
       "5373      319.992      1000       36     4.0\n",
       "5366      311.992     10000      217     3.6\n",
       "5357      303.992      1000       41     2.9\n",
       "5355      239.992     10000      411     3.8"
      ]
     },
     "execution_count": 34,
     "metadata": {},
     "output_type": "execute_result"
    }
   ],
   "source": [
    "df[[\"Price in UK\",\"Installs\",\"Reviews\",\"Rating\"]].nlargest(15,\"Price in UK\")"
   ]
  },
  {
   "cell_type": "markdown",
   "id": "effef0cb",
   "metadata": {},
   "source": [
    "### Now let's check High Rating with Paid apps\n",
    "* We filter apps with Rating equal or higher than 4.5"
   ]
  },
  {
   "cell_type": "code",
   "execution_count": 35,
   "id": "63b0aa54",
   "metadata": {},
   "outputs": [
    {
     "data": {
      "text/html": [
       "<div>\n",
       "<style scoped>\n",
       "    .dataframe tbody tr th:only-of-type {\n",
       "        vertical-align: middle;\n",
       "    }\n",
       "\n",
       "    .dataframe tbody tr th {\n",
       "        vertical-align: top;\n",
       "    }\n",
       "\n",
       "    .dataframe thead th {\n",
       "        text-align: right;\n",
       "    }\n",
       "</style>\n",
       "<table border=\"1\" class=\"dataframe\">\n",
       "  <thead>\n",
       "    <tr style=\"text-align: right;\">\n",
       "      <th></th>\n",
       "      <th>App</th>\n",
       "      <th>Category</th>\n",
       "      <th>Rating</th>\n",
       "      <th>Reviews</th>\n",
       "      <th>Size</th>\n",
       "      <th>Installs</th>\n",
       "      <th>Type</th>\n",
       "      <th>Price</th>\n",
       "      <th>Content Rating</th>\n",
       "      <th>Genres</th>\n",
       "      <th>Last Updated</th>\n",
       "      <th>Current Ver</th>\n",
       "      <th>Android Ver</th>\n",
       "      <th>Year</th>\n",
       "      <th>Price in UK</th>\n",
       "    </tr>\n",
       "  </thead>\n",
       "  <tbody>\n",
       "    <tr>\n",
       "      <th>851</th>\n",
       "      <td>Sago Mini Hat Maker</td>\n",
       "      <td>EDUCATION</td>\n",
       "      <td>4.9</td>\n",
       "      <td>11</td>\n",
       "      <td>63M</td>\n",
       "      <td>1000</td>\n",
       "      <td>Paid</td>\n",
       "      <td>3.99</td>\n",
       "      <td>Everyone</td>\n",
       "      <td>Education;Pretend Play</td>\n",
       "      <td>2017-07-24</td>\n",
       "      <td>1</td>\n",
       "      <td>4.0.3 and up</td>\n",
       "      <td>2017</td>\n",
       "      <td>3.192</td>\n",
       "    </tr>\n",
       "    <tr>\n",
       "      <th>235</th>\n",
       "      <td>Tiny Scanner Pro: PDF Doc Scan</td>\n",
       "      <td>BUSINESS</td>\n",
       "      <td>4.8</td>\n",
       "      <td>10295</td>\n",
       "      <td>39M</td>\n",
       "      <td>100000</td>\n",
       "      <td>Paid</td>\n",
       "      <td>4.99</td>\n",
       "      <td>Everyone</td>\n",
       "      <td>Business</td>\n",
       "      <td>2017-04-11</td>\n",
       "      <td>3.4.6</td>\n",
       "      <td>3.0 and up</td>\n",
       "      <td>2017</td>\n",
       "      <td>3.992</td>\n",
       "    </tr>\n",
       "    <tr>\n",
       "      <th>291</th>\n",
       "      <td>Tiny Scanner Pro: PDF Doc Scan</td>\n",
       "      <td>BUSINESS</td>\n",
       "      <td>4.8</td>\n",
       "      <td>10295</td>\n",
       "      <td>39M</td>\n",
       "      <td>100000</td>\n",
       "      <td>Paid</td>\n",
       "      <td>4.99</td>\n",
       "      <td>Everyone</td>\n",
       "      <td>Business</td>\n",
       "      <td>2017-04-11</td>\n",
       "      <td>3.4.6</td>\n",
       "      <td>3.0 and up</td>\n",
       "      <td>2017</td>\n",
       "      <td>3.992</td>\n",
       "    </tr>\n",
       "    <tr>\n",
       "      <th>234</th>\n",
       "      <td>TurboScan: scan documents and receipts in PDF</td>\n",
       "      <td>BUSINESS</td>\n",
       "      <td>4.7</td>\n",
       "      <td>11442</td>\n",
       "      <td>6.8M</td>\n",
       "      <td>100000</td>\n",
       "      <td>Paid</td>\n",
       "      <td>4.99</td>\n",
       "      <td>Everyone</td>\n",
       "      <td>Business</td>\n",
       "      <td>2018-03-25</td>\n",
       "      <td>1.5.2</td>\n",
       "      <td>4.0 and up</td>\n",
       "      <td>2018</td>\n",
       "      <td>3.992</td>\n",
       "    </tr>\n",
       "    <tr>\n",
       "      <th>290</th>\n",
       "      <td>TurboScan: scan documents and receipts in PDF</td>\n",
       "      <td>BUSINESS</td>\n",
       "      <td>4.7</td>\n",
       "      <td>11442</td>\n",
       "      <td>6.8M</td>\n",
       "      <td>100000</td>\n",
       "      <td>Paid</td>\n",
       "      <td>4.99</td>\n",
       "      <td>Everyone</td>\n",
       "      <td>Business</td>\n",
       "      <td>2018-03-25</td>\n",
       "      <td>1.5.2</td>\n",
       "      <td>4.0 and up</td>\n",
       "      <td>2018</td>\n",
       "      <td>3.992</td>\n",
       "    </tr>\n",
       "    <tr>\n",
       "      <th>852</th>\n",
       "      <td>Fuzzy Numbers: Pre-K Number Foundation</td>\n",
       "      <td>EDUCATION</td>\n",
       "      <td>4.7</td>\n",
       "      <td>21</td>\n",
       "      <td>44M</td>\n",
       "      <td>1000</td>\n",
       "      <td>Paid</td>\n",
       "      <td>5.99</td>\n",
       "      <td>Everyone</td>\n",
       "      <td>Education;Education</td>\n",
       "      <td>2017-07-21</td>\n",
       "      <td>1.3</td>\n",
       "      <td>4.1 and up</td>\n",
       "      <td>2017</td>\n",
       "      <td>4.792</td>\n",
       "    </tr>\n",
       "    <tr>\n",
       "      <th>853</th>\n",
       "      <td>Toca Life: City</td>\n",
       "      <td>EDUCATION</td>\n",
       "      <td>4.7</td>\n",
       "      <td>31085</td>\n",
       "      <td>24M</td>\n",
       "      <td>500000</td>\n",
       "      <td>Paid</td>\n",
       "      <td>3.99</td>\n",
       "      <td>Everyone</td>\n",
       "      <td>Education;Pretend Play</td>\n",
       "      <td>2018-07-06</td>\n",
       "      <td>1.5-play</td>\n",
       "      <td>4.4 and up</td>\n",
       "      <td>2018</td>\n",
       "      <td>3.192</td>\n",
       "    </tr>\n",
       "    <tr>\n",
       "      <th>854</th>\n",
       "      <td>Toca Life: Hospital</td>\n",
       "      <td>EDUCATION</td>\n",
       "      <td>4.7</td>\n",
       "      <td>3528</td>\n",
       "      <td>24M</td>\n",
       "      <td>100000</td>\n",
       "      <td>Paid</td>\n",
       "      <td>3.99</td>\n",
       "      <td>Everyone</td>\n",
       "      <td>Education;Pretend Play</td>\n",
       "      <td>2018-06-12</td>\n",
       "      <td>1.1.1-play</td>\n",
       "      <td>4.4 and up</td>\n",
       "      <td>2018</td>\n",
       "      <td>3.192</td>\n",
       "    </tr>\n",
       "    <tr>\n",
       "      <th>995</th>\n",
       "      <td>My Talking Pet</td>\n",
       "      <td>ENTERTAINMENT</td>\n",
       "      <td>4.6</td>\n",
       "      <td>6238</td>\n",
       "      <td>Varies with device</td>\n",
       "      <td>100000</td>\n",
       "      <td>Paid</td>\n",
       "      <td>4.99</td>\n",
       "      <td>Everyone</td>\n",
       "      <td>Entertainment</td>\n",
       "      <td>2018-06-30</td>\n",
       "      <td>Varies with device</td>\n",
       "      <td>Varies with device</td>\n",
       "      <td>2018</td>\n",
       "      <td>3.992</td>\n",
       "    </tr>\n",
       "    <tr>\n",
       "      <th>1001</th>\n",
       "      <td>Meme Generator</td>\n",
       "      <td>ENTERTAINMENT</td>\n",
       "      <td>4.6</td>\n",
       "      <td>3771</td>\n",
       "      <td>53M</td>\n",
       "      <td>100000</td>\n",
       "      <td>Paid</td>\n",
       "      <td>2.99</td>\n",
       "      <td>Mature 17+</td>\n",
       "      <td>Entertainment</td>\n",
       "      <td>2018-08-03</td>\n",
       "      <td>4.426</td>\n",
       "      <td>4.1 and up</td>\n",
       "      <td>2018</td>\n",
       "      <td>2.392</td>\n",
       "    </tr>\n",
       "  </tbody>\n",
       "</table>\n",
       "</div>"
      ],
      "text/plain": [
       "                                                App       Category  Rating  \\\n",
       "851                             Sago Mini Hat Maker      EDUCATION     4.9   \n",
       "235                  Tiny Scanner Pro: PDF Doc Scan       BUSINESS     4.8   \n",
       "291                  Tiny Scanner Pro: PDF Doc Scan       BUSINESS     4.8   \n",
       "234   TurboScan: scan documents and receipts in PDF       BUSINESS     4.7   \n",
       "290   TurboScan: scan documents and receipts in PDF       BUSINESS     4.7   \n",
       "852          Fuzzy Numbers: Pre-K Number Foundation      EDUCATION     4.7   \n",
       "853                                 Toca Life: City      EDUCATION     4.7   \n",
       "854                             Toca Life: Hospital      EDUCATION     4.7   \n",
       "995                                  My Talking Pet  ENTERTAINMENT     4.6   \n",
       "1001                                 Meme Generator  ENTERTAINMENT     4.6   \n",
       "\n",
       "      Reviews                Size  Installs  Type  Price Content Rating  \\\n",
       "851        11                 63M      1000  Paid   3.99       Everyone   \n",
       "235     10295                 39M    100000  Paid   4.99       Everyone   \n",
       "291     10295                 39M    100000  Paid   4.99       Everyone   \n",
       "234     11442                6.8M    100000  Paid   4.99       Everyone   \n",
       "290     11442                6.8M    100000  Paid   4.99       Everyone   \n",
       "852        21                 44M      1000  Paid   5.99       Everyone   \n",
       "853     31085                 24M    500000  Paid   3.99       Everyone   \n",
       "854      3528                 24M    100000  Paid   3.99       Everyone   \n",
       "995      6238  Varies with device    100000  Paid   4.99       Everyone   \n",
       "1001     3771                 53M    100000  Paid   2.99     Mature 17+   \n",
       "\n",
       "                      Genres Last Updated         Current Ver  \\\n",
       "851   Education;Pretend Play   2017-07-24                   1   \n",
       "235                 Business   2017-04-11               3.4.6   \n",
       "291                 Business   2017-04-11               3.4.6   \n",
       "234                 Business   2018-03-25               1.5.2   \n",
       "290                 Business   2018-03-25               1.5.2   \n",
       "852      Education;Education   2017-07-21                 1.3   \n",
       "853   Education;Pretend Play   2018-07-06            1.5-play   \n",
       "854   Education;Pretend Play   2018-06-12          1.1.1-play   \n",
       "995            Entertainment   2018-06-30  Varies with device   \n",
       "1001           Entertainment   2018-08-03               4.426   \n",
       "\n",
       "             Android Ver  Year  Price in UK  \n",
       "851         4.0.3 and up  2017        3.192  \n",
       "235           3.0 and up  2017        3.992  \n",
       "291           3.0 and up  2017        3.992  \n",
       "234           4.0 and up  2018        3.992  \n",
       "290           4.0 and up  2018        3.992  \n",
       "852           4.1 and up  2017        4.792  \n",
       "853           4.4 and up  2018        3.192  \n",
       "854           4.4 and up  2018        3.192  \n",
       "995   Varies with device  2018        3.992  \n",
       "1001          4.1 and up  2018        2.392  "
      ]
     },
     "execution_count": 35,
     "metadata": {},
     "output_type": "execute_result"
    }
   ],
   "source": [
    "high_rating_paid = df[(df[\"Rating\"] >= 4.5) & (df[\"Type\"]=='Paid')]\n",
    "\n",
    "# Filter Paid apps with highest Rating\n",
    "high_rating_paid.head(10).sort_values(\"Rating\", ascending=False)"
   ]
  },
  {
   "cell_type": "markdown",
   "id": "3516b829",
   "metadata": {},
   "source": [
    "### Now let's check High Rating without Pay"
   ]
  },
  {
   "cell_type": "code",
   "execution_count": 36,
   "id": "c4a32ef2",
   "metadata": {},
   "outputs": [
    {
     "data": {
      "text/html": [
       "<div>\n",
       "<style scoped>\n",
       "    .dataframe tbody tr th:only-of-type {\n",
       "        vertical-align: middle;\n",
       "    }\n",
       "\n",
       "    .dataframe tbody tr th {\n",
       "        vertical-align: top;\n",
       "    }\n",
       "\n",
       "    .dataframe thead th {\n",
       "        text-align: right;\n",
       "    }\n",
       "</style>\n",
       "<table border=\"1\" class=\"dataframe\">\n",
       "  <thead>\n",
       "    <tr style=\"text-align: right;\">\n",
       "      <th></th>\n",
       "      <th>App</th>\n",
       "      <th>Category</th>\n",
       "      <th>Rating</th>\n",
       "      <th>Reviews</th>\n",
       "      <th>Size</th>\n",
       "      <th>Installs</th>\n",
       "      <th>Type</th>\n",
       "      <th>Price</th>\n",
       "      <th>Content Rating</th>\n",
       "      <th>Genres</th>\n",
       "      <th>Last Updated</th>\n",
       "      <th>Current Ver</th>\n",
       "      <th>Android Ver</th>\n",
       "      <th>Year</th>\n",
       "      <th>Price in UK</th>\n",
       "    </tr>\n",
       "  </thead>\n",
       "  <tbody>\n",
       "    <tr>\n",
       "      <th>25</th>\n",
       "      <td>Harley Quinn wallpapers HD</td>\n",
       "      <td>ART_AND_DESIGN</td>\n",
       "      <td>4.8</td>\n",
       "      <td>192</td>\n",
       "      <td>6.0M</td>\n",
       "      <td>10000</td>\n",
       "      <td>Free</td>\n",
       "      <td>0.0</td>\n",
       "      <td>Everyone</td>\n",
       "      <td>Art &amp; Design</td>\n",
       "      <td>2018-04-25</td>\n",
       "      <td>1.5</td>\n",
       "      <td>3.0 and up</td>\n",
       "      <td>2018</td>\n",
       "      <td>0.0</td>\n",
       "    </tr>\n",
       "    <tr>\n",
       "      <th>2</th>\n",
       "      <td>U Launcher Lite – FREE Live Cool Themes, Hide ...</td>\n",
       "      <td>ART_AND_DESIGN</td>\n",
       "      <td>4.7</td>\n",
       "      <td>87510</td>\n",
       "      <td>8.7M</td>\n",
       "      <td>5000000</td>\n",
       "      <td>Free</td>\n",
       "      <td>0.0</td>\n",
       "      <td>Everyone</td>\n",
       "      <td>Art &amp; Design</td>\n",
       "      <td>2018-08-01</td>\n",
       "      <td>1.2.4</td>\n",
       "      <td>4.0.3 and up</td>\n",
       "      <td>2018</td>\n",
       "      <td>0.0</td>\n",
       "    </tr>\n",
       "    <tr>\n",
       "      <th>9</th>\n",
       "      <td>Kids Paint Free - Drawing Fun</td>\n",
       "      <td>ART_AND_DESIGN</td>\n",
       "      <td>4.7</td>\n",
       "      <td>121</td>\n",
       "      <td>3.1M</td>\n",
       "      <td>10000</td>\n",
       "      <td>Free</td>\n",
       "      <td>0.0</td>\n",
       "      <td>Everyone</td>\n",
       "      <td>Art &amp; Design;Creativity</td>\n",
       "      <td>2018-07-03</td>\n",
       "      <td>2.8</td>\n",
       "      <td>4.0.3 and up</td>\n",
       "      <td>2018</td>\n",
       "      <td>0.0</td>\n",
       "    </tr>\n",
       "    <tr>\n",
       "      <th>16</th>\n",
       "      <td>Photo Designer - Write your name with shapes</td>\n",
       "      <td>ART_AND_DESIGN</td>\n",
       "      <td>4.7</td>\n",
       "      <td>3632</td>\n",
       "      <td>5.5M</td>\n",
       "      <td>500000</td>\n",
       "      <td>Free</td>\n",
       "      <td>0.0</td>\n",
       "      <td>Everyone</td>\n",
       "      <td>Art &amp; Design</td>\n",
       "      <td>2018-07-31</td>\n",
       "      <td>3.1</td>\n",
       "      <td>4.1 and up</td>\n",
       "      <td>2018</td>\n",
       "      <td>0.0</td>\n",
       "    </tr>\n",
       "    <tr>\n",
       "      <th>22</th>\n",
       "      <td>Superheroes Wallpapers | 4K Backgrounds</td>\n",
       "      <td>ART_AND_DESIGN</td>\n",
       "      <td>4.7</td>\n",
       "      <td>7699</td>\n",
       "      <td>4.2M</td>\n",
       "      <td>500000</td>\n",
       "      <td>Free</td>\n",
       "      <td>0.0</td>\n",
       "      <td>Everyone 10+</td>\n",
       "      <td>Art &amp; Design</td>\n",
       "      <td>2018-07-12</td>\n",
       "      <td>2.2.6.2</td>\n",
       "      <td>4.0.3 and up</td>\n",
       "      <td>2018</td>\n",
       "      <td>0.0</td>\n",
       "    </tr>\n",
       "    <tr>\n",
       "      <th>24</th>\n",
       "      <td>HD Mickey Minnie Wallpapers</td>\n",
       "      <td>ART_AND_DESIGN</td>\n",
       "      <td>4.7</td>\n",
       "      <td>118</td>\n",
       "      <td>23M</td>\n",
       "      <td>50000</td>\n",
       "      <td>Free</td>\n",
       "      <td>0.0</td>\n",
       "      <td>Everyone</td>\n",
       "      <td>Art &amp; Design</td>\n",
       "      <td>2018-07-07</td>\n",
       "      <td>1.1.3</td>\n",
       "      <td>4.1 and up</td>\n",
       "      <td>2018</td>\n",
       "      <td>0.0</td>\n",
       "    </tr>\n",
       "    <tr>\n",
       "      <th>13</th>\n",
       "      <td>Mandala Coloring Book</td>\n",
       "      <td>ART_AND_DESIGN</td>\n",
       "      <td>4.6</td>\n",
       "      <td>4326</td>\n",
       "      <td>21M</td>\n",
       "      <td>100000</td>\n",
       "      <td>Free</td>\n",
       "      <td>0.0</td>\n",
       "      <td>Everyone</td>\n",
       "      <td>Art &amp; Design</td>\n",
       "      <td>2018-06-26</td>\n",
       "      <td>1.0.4</td>\n",
       "      <td>4.4 and up</td>\n",
       "      <td>2018</td>\n",
       "      <td>0.0</td>\n",
       "    </tr>\n",
       "    <tr>\n",
       "      <th>19</th>\n",
       "      <td>ibis Paint X</td>\n",
       "      <td>ART_AND_DESIGN</td>\n",
       "      <td>4.6</td>\n",
       "      <td>224399</td>\n",
       "      <td>31M</td>\n",
       "      <td>10000000</td>\n",
       "      <td>Free</td>\n",
       "      <td>0.0</td>\n",
       "      <td>Everyone</td>\n",
       "      <td>Art &amp; Design</td>\n",
       "      <td>2018-07-30</td>\n",
       "      <td>5.5.4</td>\n",
       "      <td>4.1 and up</td>\n",
       "      <td>2018</td>\n",
       "      <td>0.0</td>\n",
       "    </tr>\n",
       "    <tr>\n",
       "      <th>3</th>\n",
       "      <td>Sketch - Draw &amp; Paint</td>\n",
       "      <td>ART_AND_DESIGN</td>\n",
       "      <td>4.5</td>\n",
       "      <td>215644</td>\n",
       "      <td>25M</td>\n",
       "      <td>50000000</td>\n",
       "      <td>Free</td>\n",
       "      <td>0.0</td>\n",
       "      <td>Teen</td>\n",
       "      <td>Art &amp; Design</td>\n",
       "      <td>2018-06-08</td>\n",
       "      <td>Varies with device</td>\n",
       "      <td>4.2 and up</td>\n",
       "      <td>2018</td>\n",
       "      <td>0.0</td>\n",
       "    </tr>\n",
       "    <tr>\n",
       "      <th>17</th>\n",
       "      <td>350 Diy Room Decor Ideas</td>\n",
       "      <td>ART_AND_DESIGN</td>\n",
       "      <td>4.5</td>\n",
       "      <td>27</td>\n",
       "      <td>17M</td>\n",
       "      <td>10000</td>\n",
       "      <td>Free</td>\n",
       "      <td>0.0</td>\n",
       "      <td>Everyone</td>\n",
       "      <td>Art &amp; Design</td>\n",
       "      <td>2017-11-07</td>\n",
       "      <td>1</td>\n",
       "      <td>2.3 and up</td>\n",
       "      <td>2017</td>\n",
       "      <td>0.0</td>\n",
       "    </tr>\n",
       "  </tbody>\n",
       "</table>\n",
       "</div>"
      ],
      "text/plain": [
       "                                                  App        Category  Rating  \\\n",
       "25                         Harley Quinn wallpapers HD  ART_AND_DESIGN     4.8   \n",
       "2   U Launcher Lite – FREE Live Cool Themes, Hide ...  ART_AND_DESIGN     4.7   \n",
       "9                       Kids Paint Free - Drawing Fun  ART_AND_DESIGN     4.7   \n",
       "16       Photo Designer - Write your name with shapes  ART_AND_DESIGN     4.7   \n",
       "22            Superheroes Wallpapers | 4K Backgrounds  ART_AND_DESIGN     4.7   \n",
       "24                        HD Mickey Minnie Wallpapers  ART_AND_DESIGN     4.7   \n",
       "13                              Mandala Coloring Book  ART_AND_DESIGN     4.6   \n",
       "19                                       ibis Paint X  ART_AND_DESIGN     4.6   \n",
       "3                               Sketch - Draw & Paint  ART_AND_DESIGN     4.5   \n",
       "17                           350 Diy Room Decor Ideas  ART_AND_DESIGN     4.5   \n",
       "\n",
       "    Reviews  Size  Installs  Type  Price Content Rating  \\\n",
       "25      192  6.0M     10000  Free    0.0       Everyone   \n",
       "2     87510  8.7M   5000000  Free    0.0       Everyone   \n",
       "9       121  3.1M     10000  Free    0.0       Everyone   \n",
       "16     3632  5.5M    500000  Free    0.0       Everyone   \n",
       "22     7699  4.2M    500000  Free    0.0   Everyone 10+   \n",
       "24      118   23M     50000  Free    0.0       Everyone   \n",
       "13     4326   21M    100000  Free    0.0       Everyone   \n",
       "19   224399   31M  10000000  Free    0.0       Everyone   \n",
       "3    215644   25M  50000000  Free    0.0           Teen   \n",
       "17       27   17M     10000  Free    0.0       Everyone   \n",
       "\n",
       "                     Genres Last Updated         Current Ver   Android Ver  \\\n",
       "25             Art & Design   2018-04-25                 1.5    3.0 and up   \n",
       "2              Art & Design   2018-08-01               1.2.4  4.0.3 and up   \n",
       "9   Art & Design;Creativity   2018-07-03                 2.8  4.0.3 and up   \n",
       "16             Art & Design   2018-07-31                 3.1    4.1 and up   \n",
       "22             Art & Design   2018-07-12             2.2.6.2  4.0.3 and up   \n",
       "24             Art & Design   2018-07-07               1.1.3    4.1 and up   \n",
       "13             Art & Design   2018-06-26               1.0.4    4.4 and up   \n",
       "19             Art & Design   2018-07-30               5.5.4    4.1 and up   \n",
       "3              Art & Design   2018-06-08  Varies with device    4.2 and up   \n",
       "17             Art & Design   2017-11-07                   1    2.3 and up   \n",
       "\n",
       "    Year  Price in UK  \n",
       "25  2018          0.0  \n",
       "2   2018          0.0  \n",
       "9   2018          0.0  \n",
       "16  2018          0.0  \n",
       "22  2018          0.0  \n",
       "24  2018          0.0  \n",
       "13  2018          0.0  \n",
       "19  2018          0.0  \n",
       "3   2018          0.0  \n",
       "17  2017          0.0  "
      ]
     },
     "execution_count": 36,
     "metadata": {},
     "output_type": "execute_result"
    }
   ],
   "source": [
    "high_rating_free = df[(df[\"Rating\"] >= 4.5) & (df[\"Type\"]=='Free')]\n",
    "\n",
    "# Filter Paid apps with highest Rating\n",
    "high_rating_free.head(10).sort_values(\"Rating\", ascending=False)"
   ]
  },
  {
   "cell_type": "markdown",
   "id": "03586216",
   "metadata": {},
   "source": [
    "### What's the average Price and Rating in different Category?\n",
    "* To solve this problem, we need to use pivot table: `pd.pivot_table()`"
   ]
  },
  {
   "cell_type": "code",
   "execution_count": 37,
   "id": "c808fc83",
   "metadata": {},
   "outputs": [
    {
     "data": {
      "text/html": [
       "<div>\n",
       "<style scoped>\n",
       "    .dataframe tbody tr th:only-of-type {\n",
       "        vertical-align: middle;\n",
       "    }\n",
       "\n",
       "    .dataframe tbody tr th {\n",
       "        vertical-align: top;\n",
       "    }\n",
       "\n",
       "    .dataframe thead th {\n",
       "        text-align: right;\n",
       "    }\n",
       "</style>\n",
       "<table border=\"1\" class=\"dataframe\">\n",
       "  <thead>\n",
       "    <tr style=\"text-align: right;\">\n",
       "      <th></th>\n",
       "      <th>Price in UK</th>\n",
       "      <th>Rating</th>\n",
       "    </tr>\n",
       "    <tr>\n",
       "      <th>Category</th>\n",
       "      <th></th>\n",
       "      <th></th>\n",
       "    </tr>\n",
       "  </thead>\n",
       "  <tbody>\n",
       "    <tr>\n",
       "      <th>EVENTS</th>\n",
       "      <td>0.000000</td>\n",
       "      <td>4.435556</td>\n",
       "    </tr>\n",
       "    <tr>\n",
       "      <th>EDUCATION</th>\n",
       "      <td>0.092697</td>\n",
       "      <td>4.389032</td>\n",
       "    </tr>\n",
       "    <tr>\n",
       "      <th>ART_AND_DESIGN</th>\n",
       "      <td>0.078295</td>\n",
       "      <td>4.377049</td>\n",
       "    </tr>\n",
       "    <tr>\n",
       "      <th>BOOKS_AND_REFERENCE</th>\n",
       "      <td>0.107326</td>\n",
       "      <td>4.346067</td>\n",
       "    </tr>\n",
       "    <tr>\n",
       "      <th>PERSONALIZATION</th>\n",
       "      <td>0.323769</td>\n",
       "      <td>4.335256</td>\n",
       "    </tr>\n",
       "    <tr>\n",
       "      <th>PARENTING</th>\n",
       "      <td>0.153280</td>\n",
       "      <td>4.300000</td>\n",
       "    </tr>\n",
       "    <tr>\n",
       "      <th>GAME</th>\n",
       "      <td>0.204456</td>\n",
       "      <td>4.286326</td>\n",
       "    </tr>\n",
       "    <tr>\n",
       "      <th>BEAUTY</th>\n",
       "      <td>0.000000</td>\n",
       "      <td>4.278571</td>\n",
       "    </tr>\n",
       "    <tr>\n",
       "      <th>HEALTH_AND_FITNESS</th>\n",
       "      <td>0.122236</td>\n",
       "      <td>4.277104</td>\n",
       "    </tr>\n",
       "    <tr>\n",
       "      <th>SHOPPING</th>\n",
       "      <td>0.018420</td>\n",
       "      <td>4.259664</td>\n",
       "    </tr>\n",
       "    <tr>\n",
       "      <th>SOCIAL</th>\n",
       "      <td>0.006116</td>\n",
       "      <td>4.255598</td>\n",
       "    </tr>\n",
       "    <tr>\n",
       "      <th>WEATHER</th>\n",
       "      <td>0.313920</td>\n",
       "      <td>4.244000</td>\n",
       "    </tr>\n",
       "    <tr>\n",
       "      <th>SPORTS</th>\n",
       "      <td>0.233755</td>\n",
       "      <td>4.223511</td>\n",
       "    </tr>\n",
       "    <tr>\n",
       "      <th>PRODUCTIVITY</th>\n",
       "      <td>0.161641</td>\n",
       "      <td>4.211396</td>\n",
       "    </tr>\n",
       "    <tr>\n",
       "      <th>HOUSE_AND_HOME</th>\n",
       "      <td>0.000000</td>\n",
       "      <td>4.197368</td>\n",
       "    </tr>\n",
       "    <tr>\n",
       "      <th>FAMILY</th>\n",
       "      <td>1.051890</td>\n",
       "      <td>4.192383</td>\n",
       "    </tr>\n",
       "    <tr>\n",
       "      <th>PHOTOGRAPHY</th>\n",
       "      <td>0.222688</td>\n",
       "      <td>4.192114</td>\n",
       "    </tr>\n",
       "    <tr>\n",
       "      <th>AUTO_AND_VEHICLES</th>\n",
       "      <td>0.021808</td>\n",
       "      <td>4.190411</td>\n",
       "    </tr>\n",
       "    <tr>\n",
       "      <th>MEDICAL</th>\n",
       "      <td>2.384320</td>\n",
       "      <td>4.189143</td>\n",
       "    </tr>\n",
       "    <tr>\n",
       "      <th>LIBRARIES_AND_DEMO</th>\n",
       "      <td>0.000000</td>\n",
       "      <td>4.179688</td>\n",
       "    </tr>\n",
       "    <tr>\n",
       "      <th>FOOD_AND_DRINK</th>\n",
       "      <td>0.062239</td>\n",
       "      <td>4.166972</td>\n",
       "    </tr>\n",
       "    <tr>\n",
       "      <th>COMMUNICATION</th>\n",
       "      <td>0.138268</td>\n",
       "      <td>4.158537</td>\n",
       "    </tr>\n",
       "    <tr>\n",
       "      <th>COMICS</th>\n",
       "      <td>0.000000</td>\n",
       "      <td>4.155172</td>\n",
       "    </tr>\n",
       "    <tr>\n",
       "      <th>NEWS_AND_MAGAZINES</th>\n",
       "      <td>0.013665</td>\n",
       "      <td>4.132189</td>\n",
       "    </tr>\n",
       "    <tr>\n",
       "      <th>FINANCE</th>\n",
       "      <td>6.043022</td>\n",
       "      <td>4.131889</td>\n",
       "    </tr>\n",
       "    <tr>\n",
       "      <th>ENTERTAINMENT</th>\n",
       "      <td>0.042846</td>\n",
       "      <td>4.126174</td>\n",
       "    </tr>\n",
       "    <tr>\n",
       "      <th>BUSINESS</th>\n",
       "      <td>0.196409</td>\n",
       "      <td>4.121452</td>\n",
       "    </tr>\n",
       "    <tr>\n",
       "      <th>TRAVEL_AND_LOCAL</th>\n",
       "      <td>0.132708</td>\n",
       "      <td>4.109292</td>\n",
       "    </tr>\n",
       "    <tr>\n",
       "      <th>LIFESTYLE</th>\n",
       "      <td>4.995873</td>\n",
       "      <td>4.094904</td>\n",
       "    </tr>\n",
       "    <tr>\n",
       "      <th>VIDEO_PLAYERS</th>\n",
       "      <td>0.052300</td>\n",
       "      <td>4.063750</td>\n",
       "    </tr>\n",
       "    <tr>\n",
       "      <th>MAPS_AND_NAVIGATION</th>\n",
       "      <td>0.173871</td>\n",
       "      <td>4.051613</td>\n",
       "    </tr>\n",
       "    <tr>\n",
       "      <th>TOOLS</th>\n",
       "      <td>0.226903</td>\n",
       "      <td>4.047203</td>\n",
       "    </tr>\n",
       "    <tr>\n",
       "      <th>DATING</th>\n",
       "      <td>0.094195</td>\n",
       "      <td>3.970769</td>\n",
       "    </tr>\n",
       "  </tbody>\n",
       "</table>\n",
       "</div>"
      ],
      "text/plain": [
       "                     Price in UK    Rating\n",
       "Category                                  \n",
       "EVENTS                  0.000000  4.435556\n",
       "EDUCATION               0.092697  4.389032\n",
       "ART_AND_DESIGN          0.078295  4.377049\n",
       "BOOKS_AND_REFERENCE     0.107326  4.346067\n",
       "PERSONALIZATION         0.323769  4.335256\n",
       "PARENTING               0.153280  4.300000\n",
       "GAME                    0.204456  4.286326\n",
       "BEAUTY                  0.000000  4.278571\n",
       "HEALTH_AND_FITNESS      0.122236  4.277104\n",
       "SHOPPING                0.018420  4.259664\n",
       "SOCIAL                  0.006116  4.255598\n",
       "WEATHER                 0.313920  4.244000\n",
       "SPORTS                  0.233755  4.223511\n",
       "PRODUCTIVITY            0.161641  4.211396\n",
       "HOUSE_AND_HOME          0.000000  4.197368\n",
       "FAMILY                  1.051890  4.192383\n",
       "PHOTOGRAPHY             0.222688  4.192114\n",
       "AUTO_AND_VEHICLES       0.021808  4.190411\n",
       "MEDICAL                 2.384320  4.189143\n",
       "LIBRARIES_AND_DEMO      0.000000  4.179688\n",
       "FOOD_AND_DRINK          0.062239  4.166972\n",
       "COMMUNICATION           0.138268  4.158537\n",
       "COMICS                  0.000000  4.155172\n",
       "NEWS_AND_MAGAZINES      0.013665  4.132189\n",
       "FINANCE                 6.043022  4.131889\n",
       "ENTERTAINMENT           0.042846  4.126174\n",
       "BUSINESS                0.196409  4.121452\n",
       "TRAVEL_AND_LOCAL        0.132708  4.109292\n",
       "LIFESTYLE               4.995873  4.094904\n",
       "VIDEO_PLAYERS           0.052300  4.063750\n",
       "MAPS_AND_NAVIGATION     0.173871  4.051613\n",
       "TOOLS                   0.226903  4.047203\n",
       "DATING                  0.094195  3.970769"
      ]
     },
     "execution_count": 37,
     "metadata": {},
     "output_type": "execute_result"
    }
   ],
   "source": [
    "pivot = pd.pivot_table(df, index=\"Category\", values=[\"Price in UK\",\"Rating\"]).sort_values(\"Rating\", ascending = False)\n",
    "pivot"
   ]
  },
  {
   "cell_type": "markdown",
   "id": "eb270448",
   "metadata": {},
   "source": [
    "## Visualization\n",
    "**In this section, we will mainly use the library of `matplotlib` and `seaborn`. `Seaborn` is an easier way to visualize than `matplotlib`.**"
   ]
  },
  {
   "cell_type": "code",
   "execution_count": 38,
   "id": "9bc9a929",
   "metadata": {},
   "outputs": [],
   "source": [
    "# Choose 'ggplot' Style\n",
    "\n",
    "plt.style.use('ggplot')"
   ]
  },
  {
   "cell_type": "markdown",
   "id": "491f8c3c",
   "metadata": {},
   "source": [
    "### 1. Visualize the Top10 Category"
   ]
  },
  {
   "cell_type": "code",
   "execution_count": 39,
   "id": "4e06f586",
   "metadata": {},
   "outputs": [
    {
     "data": {
      "text/plain": [
       "Text(0.5, 0, 'Category')"
      ]
     },
     "execution_count": 39,
     "metadata": {},
     "output_type": "execute_result"
    },
    {
     "data": {
      "image/png": "[encoded data removed]",
      "text/plain": [
       "<Figure size 800x600 with 1 Axes>"
      ]
     },
     "metadata": {},
     "output_type": "display_data"
    }
   ],
   "source": [
    "top_10 = df[\"Category\"].value_counts().head(10)\n",
    "\n",
    "top_10.plot(kind='barh',\n",
    "           title='Top 10 Category',\n",
    "           figsize=(8,6),\n",
    "           edgecolor='black',\n",
    "           linewidth=3)\n",
    "plt.xlabel('Category')"
   ]
  },
  {
   "cell_type": "markdown",
   "id": "47637a5d",
   "metadata": {},
   "source": [
    "### 2. Visualize the Types of Apps\n",
    "* There are only two types of apps, so we choose to use bar chart."
   ]
  },
  {
   "cell_type": "code",
   "execution_count": 40,
   "id": "38f0c2da",
   "metadata": {},
   "outputs": [
    {
     "data": {
      "image/png": "[encoded data removed]",
      "text/plain": [
       "<Figure size 640x480 with 1 Axes>"
      ]
     },
     "metadata": {},
     "output_type": "display_data"
    }
   ],
   "source": [
    "type_count = df[\"Type\"].value_counts()\n",
    "type_count.plot(kind=\"bar\", \n",
    "                color=\"#CD5C5C\", \n",
    "                width=0.6,\n",
    "               edgecolor='black',\n",
    "               linewidth=3)\n",
    "plt.title(\"Free vs Paid\", fontsize=18)\n",
    "plt.xticks(rotation=0, fontsize=15)\n",
    "plt.ylabel(\"Number of Types\", fontsize=15)\n",
    "plt.yticks([1000,2000,3000,4000,5000,6000,7000,8000])\n",
    "plt.show()"
   ]
  },
  {
   "cell_type": "markdown",
   "id": "a398a595",
   "metadata": {},
   "source": [
    "###  3. Visualize Paid Apps\n",
    "* We choose to use **`boxplot`** to visualize to help us get the visual summary of the variability of dataset, spot outliers and distributions."
   ]
  },
  {
   "cell_type": "code",
   "execution_count": 41,
   "id": "812e319e",
   "metadata": {},
   "outputs": [
    {
     "data": {
      "text/plain": [
       "<AxesSubplot:title={'center':'Apps Price in UK'}, xlabel='Price in UK'>"
      ]
     },
     "execution_count": 41,
     "metadata": {},
     "output_type": "execute_result"
    },
    {
     "data": {
      "image/png": "[encoded data removed]",
      "text/plain": [
       "<Figure size 640x480 with 1 Axes>"
      ]
     },
     "metadata": {},
     "output_type": "display_data"
    }
   ],
   "source": [
    "plt.title(\"Apps Price in UK\")\n",
    "sns.boxplot(data=df, x=\"Price in UK\")"
   ]
  },
  {
   "cell_type": "markdown",
   "id": "7a87f5c1",
   "metadata": {},
   "source": [
    "### 4. Visualize the Countent Rating\n",
    "* There a few of items, so we choose to use pie chart"
   ]
  },
  {
   "cell_type": "code",
   "execution_count": 42,
   "id": "cfd8622a",
   "metadata": {
    "scrolled": false
   },
   "outputs": [
    {
     "data": {
      "image/png": "[encoded data removed]",
      "text/plain": [
       "<Figure size 640x480 with 1 Axes>"
      ]
     },
     "metadata": {},
     "output_type": "display_data"
    }
   ],
   "source": [
    "colors = ['coral','lightsalmon','lightcoral','linen','linen']\n",
    "content_rating = df[\"Content Rating\"].value_counts()\n",
    "content_rating.plot(kind=\"pie\", \n",
    "                    title=\"Content Rating\",\n",
    "                    colors = colors,\n",
    "                   autopct=\"%1.1f%%\",\n",
    "                   explode=(0,0.1,0,0,0))\n",
    "plt.ylabel(\" \")\n",
    "plt.show()"
   ]
  },
  {
   "cell_type": "markdown",
   "id": "0835c502",
   "metadata": {},
   "source": [
    "### 5. Visualize Rating"
   ]
  },
  {
   "cell_type": "code",
   "execution_count": 45,
   "id": "947be6ff",
   "metadata": {},
   "outputs": [
    {
     "data": {
      "image/png": "[encoded data removed]",
      "text/plain": [
       "<Figure size 640x480 with 1 Axes>"
      ]
     },
     "metadata": {},
     "output_type": "display_data"
    }
   ],
   "source": [
    "df[\"Rating\"].plot.hist(width=0.08)\n",
    "plt.title(\"Rating Distribution\", fontsize=15)\n",
    "plt.xlabel(\"Rating\")\n",
    "plt.ylabel(\"Number of Apps\")\n",
    "plt.show()"
   ]
  },
  {
   "cell_type": "markdown",
   "id": "1b51874b",
   "metadata": {},
   "source": [
    "### 6. Visualize Content Rating and Type\n",
    "* In this part, we combine factors of Content Rating and Types of app together for visualization"
   ]
  },
  {
   "cell_type": "code",
   "execution_count": 46,
   "id": "1ca4bf9d",
   "metadata": {
    "scrolled": true
   },
   "outputs": [
    {
     "data": {
      "text/plain": [
       "<AxesSubplot:xlabel='Content Rating', ylabel='Count'>"
      ]
     },
     "execution_count": 46,
     "metadata": {},
     "output_type": "execute_result"
    },
    {
     "data": {
      "image/png": "[encoded data removed]",
      "text/plain": [
       "<Figure size 640x480 with 1 Axes>"
      ]
     },
     "metadata": {},
     "output_type": "display_data"
    }
   ],
   "source": [
    "sns.histplot(data=df, \n",
    "             x=\"Content Rating\", \n",
    "             hue=\"Type\", \n",
    "             multiple=\"stack\",\n",
    "             kde=True)"
   ]
  },
  {
   "cell_type": "markdown",
   "id": "b56aad41",
   "metadata": {},
   "source": [
    "### 7. Visualize Type and Rating"
   ]
  },
  {
   "cell_type": "code",
   "execution_count": 49,
   "id": "21783d3e",
   "metadata": {},
   "outputs": [
    {
     "data": {
      "text/plain": [
       "<seaborn.axisgrid.FacetGrid at 0x7f9dda0c2430>"
      ]
     },
     "execution_count": 49,
     "metadata": {},
     "output_type": "execute_result"
    },
    {
     "data": {
      "image/png": "[encoded data removed]",
      "text/plain": [
       "<Figure size 579.5x500 with 1 Axes>"
      ]
     },
     "metadata": {},
     "output_type": "display_data"
    }
   ],
   "source": [
    "sns.displot(kind=\"hist\",\n",
    "           data=df,\n",
    "           x=\"Rating\",\n",
    "           hue=\"Type\",\n",
    "           multiple=\"stack\")"
   ]
  },
  {
   "cell_type": "markdown",
   "id": "25449d35",
   "metadata": {},
   "source": [
    "### 8. Visualize Content Rating, Type and Rating"
   ]
  },
  {
   "cell_type": "code",
   "execution_count": 44,
   "id": "4b6ac18e",
   "metadata": {},
   "outputs": [
    {
     "data": {
      "text/plain": [
       "<AxesSubplot:xlabel='Content Rating', ylabel='Rating'>"
      ]
     },
     "execution_count": 44,
     "metadata": {},
     "output_type": "execute_result"
    },
    {
     "data": {
      "image/png": "[encoded data removed]",
      "text/plain": [
       "<Figure size 640x480 with 1 Axes>"
      ]
     },
     "metadata": {},
     "output_type": "display_data"
    }
   ],
   "source": [
    "sns.scatterplot(data=df, \n",
    "             x=\"Content Rating\", \n",
    "             hue=\"Type\", \n",
    "             y=\"Rating\")"
   ]
  },
  {
   "cell_type": "markdown",
   "id": "dd6935a9",
   "metadata": {},
   "source": [
    "### 9. Visualize the relationship between Rating and Categories; Price and Categories"
   ]
  },
  {
   "cell_type": "code",
   "execution_count": 50,
   "id": "f6271ac9",
   "metadata": {},
   "outputs": [
    {
     "data": {
      "image/png": "[encoded data removed]",
      "text/plain": [
       "<Figure size 1200x500 with 1 Axes>"
      ]
     },
     "metadata": {},
     "output_type": "display_data"
    }
   ],
   "source": [
    "grp = df.groupby('Category')\n",
    "x = grp[\"Rating\"].agg(np.mean)\n",
    "y = grp[\"Price in UK\"].agg(np.mean)\n",
    "\n",
    "plt.figure(figsize=(12,5))\n",
    "plt.title(\"Category vs Rating\", fontsize=15)\n",
    "plt.plot(x, \"ro\")\n",
    "plt.xticks(rotation=90)\n",
    "plt.show()"
   ]
  },
  {
   "cell_type": "code",
   "execution_count": 51,
   "id": "50a14229",
   "metadata": {},
   "outputs": [
    {
     "data": {
      "image/png": "[encoded data removed]",
      "text/plain": [
       "<Figure size 1200x500 with 1 Axes>"
      ]
     },
     "metadata": {},
     "output_type": "display_data"
    }
   ],
   "source": [
    "plt.figure(figsize=(12,5))\n",
    "plt.title(\"Category vs Price\", fontsize=15)\n",
    "plt.plot(y, \"ro\")\n",
    "plt.xticks(rotation=90)\n",
    "plt.show()"
   ]
  }
 ],
 "metadata": {
  "kernelspec": {
   "display_name": "Python 3 (ipykernel)",
   "language": "python",
   "name": "python3"
  },
  "language_info": {
   "codemirror_mode": {
    "name": "ipython",
    "version": 3
   },
   "file_extension": ".py",
   "mimetype": "text/x-python",
   "name": "python",
   "nbconvert_exporter": "python",
   "pygments_lexer": "ipython3",
   "version": "3.9.13"
  }
 },
 "nbformat": 4,
 "nbformat_minor": 5
}
